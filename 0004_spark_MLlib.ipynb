{
 "cells": [
  {
   "cell_type": "code",
   "execution_count": null,
   "metadata": {},
   "outputs": [],
   "source": [
    "import os\n",
    "import sys\n",
    "\n",
    "# Set explicit paths, important\n",
    "os.environ['PYSPARK_PYTHON'] = sys.executable\n",
    "os.environ['PYSPARK_DRIVER_PYTHON'] = sys.executable\n",
    "\n",
    "# Set explicit paths\n",
    "os.environ['SPARK_HOME'] = r\"C:\\Users\\wood_\\anaconda3\\envs\\spark\\Lib\\site-packages\\pyspark\"\n",
    "os.environ['HADOOP_HOME'] = r\"C:\\Users\\wood_\\anaconda3\\envs\\spark\\Lib\\site-packages\\pyspark\"\n",
    "sys.path.append(r\"C:\\Users\\wood_\\anaconda3\\envs\\spark\\Lib\\site-packages\\pyspark\\bin\")"
   ]
  },
  {
   "cell_type": "code",
   "execution_count": 3,
   "metadata": {},
   "outputs": [],
   "source": [
    "# Import\n",
    "from pyspark.ml.regression import LinearRegression\n",
    "from pyspark.ml.feature import VectorAssembler\n",
    "from pyspark.sql import SparkSession"
   ]
  },
  {
   "cell_type": "code",
   "execution_count": 4,
   "metadata": {},
   "outputs": [],
   "source": [
    "spark = SparkSession.builder.appName(\"test.com\").getOrCreate()"
   ]
  },
  {
   "cell_type": "code",
   "execution_count": 5,
   "metadata": {},
   "outputs": [],
   "source": [
    "# Sample training data\n",
    "data = [(1.0, 2.0), (2.0, 3.0), (3.0, 4.0), (4.0, 5.0), (5.0, 6.0)]\n",
    "df = spark.createDataFrame(data, [\"features\", \"label\"])"
   ]
  },
  {
   "cell_type": "code",
   "execution_count": 6,
   "metadata": {},
   "outputs": [],
   "source": [
    "# Define a feature vector assembler\n",
    "assembler = VectorAssembler(inputCols=[\"features\"], outputCol=\"features_vec\")"
   ]
  },
  {
   "cell_type": "code",
   "execution_count": 7,
   "metadata": {},
   "outputs": [
    {
     "name": "stdout",
     "output_type": "stream",
     "text": [
      "+--------+-----+------------+\n",
      "|features|label|features_vec|\n",
      "+--------+-----+------------+\n",
      "|     1.0|  2.0|       [1.0]|\n",
      "|     2.0|  3.0|       [2.0]|\n",
      "|     3.0|  4.0|       [3.0]|\n",
      "|     4.0|  5.0|       [4.0]|\n",
      "|     5.0|  6.0|       [5.0]|\n",
      "+--------+-----+------------+\n",
      "\n"
     ]
    }
   ],
   "source": [
    "# Transform the DataFrame with the feature vector assembler\n",
    "df = assembler.transform(df)\n",
    "df.show()"
   ]
  },
  {
   "cell_type": "code",
   "execution_count": 8,
   "metadata": {},
   "outputs": [],
   "source": [
    "# Create a LinearRegression model\n",
    "lr = LinearRegression(featuresCol=\"features_vec\", labelCol=\"label\")"
   ]
  },
  {
   "cell_type": "code",
   "execution_count": 9,
   "metadata": {},
   "outputs": [],
   "source": [
    "# Fit the model to the traning data\n",
    "model = lr.fit(df)"
   ]
  },
  {
   "cell_type": "code",
   "execution_count": 10,
   "metadata": {},
   "outputs": [
    {
     "name": "stdout",
     "output_type": "stream",
     "text": [
      "coefficients: [1.0000000000000004]\n",
      "Intercept: 0.9999999999999986\n"
     ]
    }
   ],
   "source": [
    "# Print the coefficients and intercept of the model\n",
    "print(f\"coefficients: {str(model.coefficients)}\")\n",
    "print(f\"Intercept: {str(model.intercept)}\")"
   ]
  },
  {
   "cell_type": "code",
   "execution_count": 11,
   "metadata": {},
   "outputs": [],
   "source": [
    "# Stop the SparkSession\n",
    "spark.stop()"
   ]
  }
 ],
 "metadata": {
  "kernelspec": {
   "display_name": "spark",
   "language": "python",
   "name": "python3"
  },
  "language_info": {
   "codemirror_mode": {
    "name": "ipython",
    "version": 3
   },
   "file_extension": ".py",
   "mimetype": "text/x-python",
   "name": "python",
   "nbconvert_exporter": "python",
   "pygments_lexer": "ipython3",
   "version": "3.8.20"
  }
 },
 "nbformat": 4,
 "nbformat_minor": 2
}
